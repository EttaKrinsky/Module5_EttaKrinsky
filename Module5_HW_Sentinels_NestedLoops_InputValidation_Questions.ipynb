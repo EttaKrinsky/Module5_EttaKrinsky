{
  "cells": [
    {
      "cell_type": "markdown",
      "metadata": {
        "id": "view-in-github",
        "colab_type": "text"
      },
      "source": [
        "<a href=\"https://colab.research.google.com/github/EttaKrinsky/Module5_EttaKrinsky/blob/main/Module5_HW_Sentinels_NestedLoops_InputValidation_Questions.ipynb\" target=\"_parent\"><img src=\"https://colab.research.google.com/assets/colab-badge.svg\" alt=\"Open In Colab\"/></a>"
      ]
    },
    {
      "cell_type": "markdown",
      "id": "90ac47ab",
      "metadata": {
        "id": "90ac47ab"
      },
      "source": [
        "# HW: Sentinels, Nested Loops, and Input Validation (≈70 minutes)\n",
        "\n",
        "**Instructions**\n",
        "- Work in order. Each task has a time estimate to help you pace yourself.\n",
        "- Do **not** use external libraries. Keep to standard Python.\n",
        "- Wherever you see `# TODO`, fill in the code.\n",
        "- Run the test cells (where provided) to sanity‑check your work.\n",
        "- If something is unclear, add a short comment explaining your reasoning.\n",
        "\n",
        "**Learning goals**\n",
        "- Use **sentinel-controlled while loops** to gather input until the user indicates “stop.”\n",
        "- Use **try/except** and loops to **validate inputs** and **reprompt**.\n",
        "- Use **nested loops** to build tables or to loop over characters in strings."
      ]
    },
    {
      "cell_type": "markdown",
      "id": "e1f28e9a",
      "metadata": {
        "id": "e1f28e9a"
      },
      "source": [
        "---\n",
        "## ⏱️ Estimated total time: ~70 minutes\n",
        "\n",
        "- **Task 1** – Sentinel stats (15 min)  \n",
        "- **Task 2** – Choice validator (8 min)  \n",
        "- **Task 3** – Multiplication grid (12 min)  \n",
        "- **Task 4** – Vowel counter across words (15 min)  \n",
        "- **Task 5** – Mini‑gradebook (20 min)"
      ]
    },
    {
      "cell_type": "markdown",
      "id": "983a92fb",
      "metadata": {
        "id": "983a92fb"
      },
      "source": [
        "---\n",
        "## Task 1 — Sentinel stats (≈15 min)\n",
        "\n",
        "Write a program that repeatedly asks the user for **integers between 0 and 100**.  \n",
        "Use a **sentinel**: the user types `done` (any case) to finish.\n",
        "\n",
        "**Requirements**\n",
        "- Ignore blank inputs (reprompt).\n",
        "- If the user types something that's not an integer in range, print a friendly message and reprompt.\n",
        "- When the user finishes, print: **count**, **sum**, **min**, **max**, and **mean** (to 2 decimals).  using f-string : {num:.2f}\n",
        "- If no valid numbers were entered, print `\"No data.\"`\n"
      ]
    },
    {
      "cell_type": "code",
      "execution_count": 6,
      "id": "bd66cac2",
      "metadata": {
        "id": "bd66cac2",
        "colab": {
          "base_uri": "https://localhost:8080/"
        },
        "outputId": "a4ede431-1a69-4d65-db1d-ba36d79ef4b7"
      },
      "outputs": [
        {
          "output_type": "stream",
          "name": "stdout",
          "text": [
            "Enter an integer between 0 and 100 (or 'done' to finish): 63\n",
            "Enter an integer between 0 and 100 (or 'done' to finish): 63\n",
            "Enter an integer between 0 and 100 (or 'done' to finish): 48\n",
            "Enter an integer between 0 and 100 (or 'done' to finish): 46\n",
            "Enter an integer between 0 and 100 (or 'done' to finish): 654\n",
            "Invalid Input. Please enter an integer between 0 and 100.\n",
            "Enter an integer between 0 and 100 (or 'done' to finish): 96\n",
            "Enter an integer between 0 and 100 (or 'done' to finish): done\n",
            "Count: 5.00, Sum: 316.00, Min: 46.00, Max: 96.00, Mean: 63.20\n"
          ]
        }
      ],
      "source": [
        "def sentinel_stats():\n",
        "  numbers = []\n",
        "\n",
        "  while True:\n",
        "    answer = input(\"Enter an integer between 0 and 100 (or 'done' to finish): \")\n",
        "    answer_lower_strip = answer.lower().strip()\n",
        "\n",
        "    if answer_lower_strip == \"done\":\n",
        "      break\n",
        "    elif not answer: # Check if the input is blank\n",
        "        continue\n",
        "    else:\n",
        "      try:\n",
        "        num = int(answer)\n",
        "        if 0 <= num <= 100: # Check if the number is within the range\n",
        "          numbers.append(num)\n",
        "        else:\n",
        "          print(\"Invalid Input. Please enter an integer between 0 and 100.\")\n",
        "      except ValueError: # Handle non-integer input\n",
        "        print(\"Invalid Input. Please enter an integer or 'done'.\")\n",
        "\n",
        "  if not numbers: # Check if any valid numbers were entered\n",
        "    print(\"No data.\")\n",
        "  else:\n",
        "    count = len(numbers)\n",
        "    total = sum(numbers)\n",
        "    minimum = min(numbers)\n",
        "    maximum = max(numbers)\n",
        "    mean = total / count\n",
        "\n",
        "    print(f\"Count: {count:.2f}, Sum: {total:.2f}, Min: {minimum:.2f}, Max: {maximum:.2f}, Mean: {mean:.2f}\")\n",
        "\n",
        "sentinel_stats()"
      ]
    },
    {
      "cell_type": "markdown",
      "id": "03a0f72b",
      "metadata": {
        "id": "03a0f72b"
      },
      "source": [
        "---\n",
        "## Task 2 — Choice validator (≈8 min)\n",
        "\n",
        "Write a function `get_choice(prompt, options)` that:\n",
        "- Prints the prompt and the list of options.\n",
        "- Repeatedly asks for input until the user types **exactly** one of the options (case‑insensitive).\n",
        "- Returns the **originally cased** option from the `options` list.\n",
        "\n",
        "**Example**\n",
        "```text\n",
        "Your choice (red/blue/green): Blue\n",
        "# returns \"blue\" if options = [\"red\", \"blue\", \"green\"]\n",
        "```\n",
        "\n",
        "> Hints: Build `options_lower` once, then search it each time to find the index."
      ]
    },
    {
      "cell_type": "code",
      "execution_count": 23,
      "id": "ac138b14",
      "metadata": {
        "id": "ac138b14",
        "colab": {
          "base_uri": "https://localhost:8080/"
        },
        "outputId": "d1d63ce3-c50a-4da0-992c-1616d671262c"
      },
      "outputs": [
        {
          "output_type": "stream",
          "name": "stdout",
          "text": [
            "Welcome! We have Vanilla, Chocolate, Mint Chocolate Chip, or Pistachio Ice Cream.\n",
            "Which Flavor Would You Like? strawberry\n",
            "We don't have that option. Please pick again.\n",
            "Which Flavor Would You Like? cookies and cream\n",
            "You picked: Cookies and Cream\n"
          ]
        }
      ],
      "source": [
        "def get_choice(prompt, options):\n",
        "  options_lower = [option.lower() for option in options]\n",
        "  while True:\n",
        "    user_input = input(prompt).lower()\n",
        "    if user_input in options_lower:\n",
        "      index = options_lower.index(user_input)\n",
        "      return options[index]\n",
        "    else:\n",
        "      print(f\"We don't have that option. Please pick again.\")\n",
        "def main():\n",
        "  print(\"Welcome! We have Vanilla, Chocolate, Mint Chocolate Chip, or Pistachio Ice Cream.\")\n",
        "  prompt = \"Which Flavor Would You Like? \"\n",
        "  options = [\"Vanilla\", \"Chocolate\", \"Mint Chocolate Chip\", \"Pistachio\", \"Cookies and Cream\"]\n",
        "  flavor = get_choice(prompt, options)\n",
        "  print(\"You picked:\", flavor)\n",
        "\n",
        "main()"
      ]
    },
    {
      "cell_type": "code",
      "execution_count": 25,
      "id": "c11c898d",
      "metadata": {
        "id": "c11c898d",
        "colab": {
          "base_uri": "https://localhost:8080/"
        },
        "outputId": "ed4c383c-8f64-443b-f10c-ddba9f34fbaa"
      },
      "outputs": [
        {
          "output_type": "stream",
          "name": "stdout",
          "text": [
            "Pick a color: orange\n",
            "We don't have that option. Please pick again.\n",
            "Pick a color: red\n",
            "You picked:  red\n"
          ]
        }
      ],
      "source": [
        "# (Quick check) Manually try:\n",
        "# color = get_choice(\"Pick a color\", [\"red\",\"blue\",\"green\"])\n",
        "color = get_choice(\"Pick a color: \", [\"red\",\"blue\",\"green\"])\n",
        "# print(\"You picked:\", color)\n",
        "print(\"You picked: \", color)"
      ]
    },
    {
      "cell_type": "markdown",
      "id": "003c976f",
      "metadata": {
        "id": "003c976f"
      },
      "source": [
        "---\n",
        "## Task 3 — Multiplication grid (≈12 min)\n",
        "\n",
        "Prompt the user for two **integers** `rows` and `cols` in the range **1..10**.  \n",
        "Validate both with try/except and reprompt until valid.\n",
        "\n",
        "Then print a **rows × cols** multiplication table, where each cell shows `r*c` (1‑indexed).  \n",
        "Format with spaces so columns line up **at least** for small sizes.\n",
        "\n",
        "**Example (rows=3, cols=4)**\n",
        "```\n",
        "    1  2  3  4\n",
        " 1: 1  2  3  4\n",
        " 2: 2  4  6  8\n",
        " 3: 3  6  9 12\n",
        "```"
      ]
    },
    {
      "cell_type": "code",
      "execution_count": 5,
      "id": "db519675",
      "metadata": {
        "id": "db519675",
        "colab": {
          "base_uri": "https://localhost:8080/"
        },
        "outputId": "bfc4e1f1-84e0-4f10-aaf0-8be876e7ad5e"
      },
      "outputs": [
        {
          "output_type": "stream",
          "name": "stdout",
          "text": [
            "Enter the number of rows (1-10): 96\n",
            "Invalid Input. Please enter an integer between 1 and 10.\n",
            "Enter the number of rows (1-10): 5\n",
            "Enter the number of columns (1-10): 6\n",
            "      1   2   3   4   5   6\n",
            " 1:    1   2   3   4   5   6\n",
            " 2:    2   4   6   8  10  12\n",
            " 3:    3   6   9  12  15  18\n",
            " 4:    4   8  12  16  20  24\n",
            " 5:    5  10  15  20  25  30\n"
          ]
        }
      ],
      "source": [
        "def multiplication_table():\n",
        "  rows = 0\n",
        "  cols = 0\n",
        "\n",
        "  while not (1 <= rows <= 10):\n",
        "    try:\n",
        "      rows = int(input(\"Enter the number of rows (1-10): \"))\n",
        "      if (1 <= rows <= 10):\n",
        "        continue\n",
        "      print(\"Invalid Input. Please enter an integer between 1 and 10.\")\n",
        "    except ValueError:\n",
        "      print(\"Invalid Input. Please enter an integer between 1 and 10.\")\n",
        "\n",
        "  while not (1 <= cols <= 10):\n",
        "    try:\n",
        "      cols = int(input(\"Enter the number of columns (1-10): \"))\n",
        "      if not (1 <= cols <= 10):\n",
        "        print(\"Invalid Input. Please enter an integer between 1 and 10.\")\n",
        "    except ValueError:\n",
        "      print(\"Invalid Input. Please enter an integer between 1 and 10.\")\n",
        "\n",
        "  print(\"  \", end=\" \")\n",
        "  for j in range(1, cols + 1):\n",
        "    print(f\"{j:4}\", end=\"\")\n",
        "  print()\n",
        "\n",
        "  for i in range(1, rows + 1):\n",
        "    print(f\"{i:2}:\", end=\" \")\n",
        "    for j in range(1, cols + 1):\n",
        "      print(f\"{i * j:4}\", end=\"\")\n",
        "    print()\n",
        "\n",
        "multiplication_table()"
      ]
    },
    {
      "cell_type": "markdown",
      "id": "416bab28",
      "metadata": {
        "id": "416bab28"
      },
      "source": [
        "---\n",
        "## Task 4 — Vowel counter across words (≈15 min)\n",
        "\n",
        "Use a **sentinel** loop to read words until the user types `done`.  \n",
        "For each word, use a **nested loop** (loop over characters) to count **vowels** `a e i o u` (case‑insensitive).\n",
        "\n",
        "**Output**\n",
        "- After each word, print `\"{word}\" has {k} vowel(s)`.\n",
        "- At the end, print the **total number of vowels** across all words.\n",
        "\n",
        "> Hints: A string is looped over the way a list is.  Use `for ch in word:` to examine each character in the string; compare `ch.lower()` against a set like `{'a','e','i','o','u'}`."
      ]
    },
    {
      "cell_type": "code",
      "execution_count": 29,
      "id": "c7a96d30",
      "metadata": {
        "id": "c7a96d30",
        "colab": {
          "base_uri": "https://localhost:8080/"
        },
        "outputId": "06b9b1a0-3b6e-4f70-bf87-d03260e37811"
      },
      "outputs": [
        {
          "output_type": "stream",
          "name": "stdout",
          "text": [
            "Enter a word (or 'done' to finish): My Siblings\n",
            "My Siblings has 2 vowel(s).\n",
            "Enter a word (or 'done' to finish): Etta\n",
            "Etta has 2 vowel(s).\n",
            "Enter a word (or 'done' to finish): Moshe\n",
            "Moshe has 2 vowel(s).\n",
            "Enter a word (or 'done' to finish): Shlomo\n",
            "Shlomo has 2 vowel(s).\n",
            "Enter a word (or 'done' to finish): Akiva Zev\n",
            "Akiva Zev has 4 vowel(s).\n",
            "Enter a word (or 'done' to finish): Rachel Frieda\n",
            "Rachel Frieda has 5 vowel(s).\n",
            "Enter a word (or 'done' to finish): done\n",
            "Total number of vowels: 17\n"
          ]
        }
      ],
      "source": [
        "def vowel_count():\n",
        "  vowels = {'a', 'e', 'i', 'o', 'u'}\n",
        "  total_vowels = 0\n",
        "\n",
        "  while True:\n",
        "    word = input(\"Enter a word (or 'done' to finish): \")\n",
        "    if word.lower() == 'done':\n",
        "      break\n",
        "    vowel_count = 0\n",
        "    for ch in word.lower():\n",
        "      if ch in vowels:\n",
        "        vowel_count += 1\n",
        "\n",
        "    total_vowels += vowel_count\n",
        "    print(f\"{word} has {vowel_count} vowel(s).\")\n",
        "\n",
        "  print(f\"Total number of vowels: {total_vowels}\")\n",
        "\n",
        "vowel_count()"
      ]
    },
    {
      "cell_type": "markdown",
      "id": "98dd5563",
      "metadata": {
        "id": "98dd5563"
      },
      "source": [
        "---\n",
        "## Task 5 — Mini‑gradebook (≈20 min)\n",
        "\n",
        "Build a tiny gradebook using **both** a sentinel loop and a nested loop.\n",
        "\n",
        "**Requirements**\n",
        "1. Repeatedly ask for a **student name** until the user types `done` (sentinel).  \n",
        "   - Ignore blank names.\n",
        "2. For each student, read exactly **3 scores** (0..100, integers).  \n",
        "   - Use input validation with try/except; reprompt on bad input.\n",
        "3. Store each student's average in a dictionary `grades[name] = avg`.\n",
        "4. After input ends, print a **simple report** sorted by name:\n",
        "   ```\n",
        "   Alice : 88.00\n",
        "   Bob   : 92.33\n",
        "   ```\n",
        "\n",
        "**Stretch (optional)**  \n",
        "- Also print the **class average**."
      ]
    },
    {
      "cell_type": "code",
      "execution_count": 75,
      "id": "b4c87c4c",
      "metadata": {
        "id": "b4c87c4c",
        "colab": {
          "base_uri": "https://localhost:8080/"
        },
        "outputId": "2f723921-90e8-4f8e-a683-45d142ab02c4"
      },
      "outputs": [
        {
          "output_type": "stream",
          "name": "stdout",
          "text": [
            "Enter a student name (or 'done' to finish): Rina\n",
            "Enter score for Rina: Sarah\n",
            "Invalid Input. Please enter an integer between 0 and 100.\n",
            "Enter score for Rina: 98\n",
            "Enter score for Rina: 100\n",
            "Enter score for Rina: 90\n",
            "Enter a student name (or 'done' to finish): Goldie\n",
            "Enter score for Goldie: 95\n",
            "Enter score for Goldie: 96\n",
            "Enter score for Goldie: 94\n",
            "Enter a student name (or 'done' to finish): Elisheva\n",
            "Enter score for Elisheva: 88\n",
            "Enter score for Elisheva: 85\n",
            "Enter score for Elisheva: 86\n",
            "Enter a student name (or 'done' to finish): Sarah\n",
            "Enter score for Sarah: 93\n",
            "Enter score for Sarah: 92\n",
            "Enter score for Sarah: 91\n",
            "Enter a student name (or 'done' to finish): done\n",
            "\n",
            "--- Grade Report ---\n",
            "Elisheva  : 86.33\n",
            "Goldie    : 95.00\n",
            "Rina      : 96.00\n",
            "Sarah     : 92.00\n",
            "\n",
            "Class Average: 92.33\n"
          ]
        }
      ],
      "source": [
        "def mini_gradebook():\n",
        "  grades = {}\n",
        "\n",
        "  while True:\n",
        "    name = input(\"Enter a student name (or 'done' to finish): \").strip()\n",
        "    if name.lower() == 'done':\n",
        "      break\n",
        "    elif not name:  # Ignore blank names\n",
        "      continue\n",
        "\n",
        "    scores = []\n",
        "    for _ in range(3):\n",
        "      while True:\n",
        "        try:\n",
        "          score = int(input(f\"Enter score for {name}: \"))\n",
        "          if 0 <= score <= 100:\n",
        "            scores.append(score)\n",
        "            break  # Exit the inner loop after getting a valid score\n",
        "          else:\n",
        "            print(\"Invalid Input. Please enter an integer between 0 and 100.\")\n",
        "        except ValueError:\n",
        "          print(\"Invalid Input. Please enter an integer between 0 and 100.\")\n",
        "\n",
        "    if scores: # Calculate average only if scores were entered\n",
        "      average = sum(scores) / len(scores)\n",
        "      grades[name] = average\n",
        "\n",
        "  if not grades:\n",
        "    print(\"No data.\")\n",
        "  else:\n",
        "    print(\"\\n--- Grade Report ---\")\n",
        "    for name in sorted(grades.keys()):\n",
        "      print(f\"{name:<10}: {grades[name]:.2f}\")\n",
        "\n",
        "    #Class average\n",
        "    class_average = sum(grades.values()) / len(grades)\n",
        "    print(f\"\\nClass Average: {class_average:.2f}\")\n",
        "\n",
        "mini_gradebook()"
      ]
    },
    {
      "cell_type": "markdown",
      "id": "0d1a8cf7",
      "metadata": {
        "id": "0d1a8cf7"
      },
      "source": [
        "---\n",
        "### ✅ Submission checklist\n",
        "\n",
        "- [ ] Notebook runs top‑to‑bottom without errors\n",
        "- [ ] Brief comments added where logic might be unclear\n",
        "- [ ] Push this notebook to your GitHub as part of your assignment submission, submit link to Canvas"
      ]
    }
  ],
  "metadata": {
    "colab": {
      "provenance": [],
      "include_colab_link": true
    },
    "language_info": {
      "name": "python"
    },
    "kernelspec": {
      "name": "python3",
      "display_name": "Python 3"
    }
  },
  "nbformat": 4,
  "nbformat_minor": 5
}